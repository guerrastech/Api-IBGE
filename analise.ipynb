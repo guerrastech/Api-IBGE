{
 "cells": [
  {
   "cell_type": "markdown",
   "metadata": {},
   "source": [
    "### Objetivo: Consumir API\n",
    "\n",
    " url base https://servicodados.ibge.gov.br/api/docs/agregados?versao=3#api-bq\n",
    "para ter acesso aos dados das pesquisas e censos realizados pelo IBGE."
   ]
  },
  {
   "cell_type": "markdown",
   "metadata": {},
   "source": [
    "Para essa API retornar:\n",
    "\n",
    "1. Inflação IPCA (geral, grupo, subgrupo, item, subitem)\n",
    "2. INPC\n",
    "3. PIB\n",
    "4. Desemprego\n",
    "5. Pesquisa Mensal do Comércio\n",
    "6. Pesquisa Mensal de Serviços\n",
    "7. Pesquisa Industrial Mensal\n",
    "\n"
   ]
  },
  {
   "cell_type": "markdown",
   "metadata": {},
   "source": [
    "Importar bibliotecas"
   ]
  },
  {
   "cell_type": "code",
   "execution_count": 1,
   "metadata": {},
   "outputs": [],
   "source": [
    "import pandas as pd  #possibilita manipulação e análise de dados\n",
    "import requests  #possibilita integração com serviços web, solicitações HTTP consumir dados de APIs"
   ]
  },
  {
   "cell_type": "markdown",
   "metadata": {},
   "source": [
    "## Inflação IPCA (geral, grupo, subgrupo, item, subitem)"
   ]
  },
  {
   "cell_type": "code",
   "execution_count": 2,
   "metadata": {},
   "outputs": [],
   "source": [
    "# Endpoint da API do IBGE para o agregado do Indice Nacional dos Preços ao Consumidor Amplo período de 2006 à 2011\n",
    "url = \"https://servicodados.ibge.gov.br/api/v3/agregados/2938/periodos/200607-201112/variaveis/63?localidades=N7[all]&classificacao=315[7169]\"\n",
    "\n",
    "# Realizar a requisição\n",
    "response = requests.get(url)\n",
    "\n",
    "# Verificar se a requisição foi bem-sucedida\n",
    "if response.status_code == 200:\n",
    "    data = response.json()\n",
    "\n",
    "    # Extrair e organizar os dados\n",
    "    desemprego_data = []\n",
    "    for resultado in data:\n",
    "        for serie in resultado[\"resultados\"][0][\"series\"]:\n",
    "            estado_nome = serie[\"localidade\"][\"nome\"]  # Obtém o nome do estado\n",
    "            for periodo, valor in serie[\"serie\"].items():\n",
    "                desemprego_data.append({\n",
    "                    \"periodo\": periodo,\n",
    "                    \"IPCA\": valor,\n",
    "                    \"estado\": estado_nome\n",
    "                })\n",
    "else:\n",
    "    print(\"Erro:\", response.status_code, response.text)"
   ]
  },
  {
   "cell_type": "code",
   "execution_count": 3,
   "metadata": {},
   "outputs": [
    {
     "name": "stdout",
     "output_type": "stream",
     "text": [
      "    periodo   IPCA             estado\n",
      "0    200607   0.11         Belém - PA\n",
      "1    200608  -0.32         Belém - PA\n",
      "2    200609   0.03         Belém - PA\n",
      "3    200610   0.78         Belém - PA\n",
      "4    200611   0.50         Belém - PA\n",
      "..      ...    ...                ...\n",
      "589  201108   0.14  Porto Alegre - RS\n",
      "590  201109   0.51  Porto Alegre - RS\n",
      "591  201110   0.98  Porto Alegre - RS\n",
      "592  201111   0.58  Porto Alegre - RS\n",
      "593  201112   0.19  Porto Alegre - RS\n",
      "\n",
      "[594 rows x 3 columns]\n"
     ]
    }
   ],
   "source": [
    "# Converter para DataFrame\n",
    "df = pd.DataFrame(desemprego_data)\n",
    "print(df)"
   ]
  },
  {
   "cell_type": "markdown",
   "metadata": {},
   "source": [
    "## INPC"
   ]
  },
  {
   "cell_type": "code",
   "execution_count": 4,
   "metadata": {},
   "outputs": [],
   "source": [
    "# Endpoint da API do IBGE para o agregado do Indice Nacional dos Preços ao Consumidor período de 2006 à 2011\n",
    "url = \"https://servicodados.ibge.gov.br/api/v3/agregados/2951/periodos/200607-201112/variaveis/44?localidades=N7[all]&classificacao=315[7169]\"\n",
    "\n",
    "# Realizar a requisição\n",
    "response = requests.get(url)\n",
    "\n",
    "# Verificar se a requisição foi bem-sucedida\n",
    "if response.status_code == 200:\n",
    "    data = response.json()\n",
    "\n",
    "    # Extrair e organizar os dados\n",
    "    desemprego_data = []\n",
    "    for resultado in data:\n",
    "        for serie in resultado[\"resultados\"][0][\"series\"]:\n",
    "            estado_nome = serie[\"localidade\"][\"nome\"]  # Obtém o nome do estado\n",
    "            for periodo, valor in serie[\"serie\"].items():\n",
    "                desemprego_data.append({\n",
    "                    \"periodo\": periodo,\n",
    "                    \"INPC\": valor,\n",
    "                    \"estado\": estado_nome\n",
    "                })\n",
    "else:\n",
    "    print(\"Erro:\", response.status_code, response.text)"
   ]
  },
  {
   "cell_type": "code",
   "execution_count": 5,
   "metadata": {},
   "outputs": [
    {
     "name": "stdout",
     "output_type": "stream",
     "text": [
      "    periodo   INPC             estado\n",
      "0    200607   0.00         Belém - PA\n",
      "1    200608  -0.50         Belém - PA\n",
      "2    200609  -0.14         Belém - PA\n",
      "3    200610   0.91         Belém - PA\n",
      "4    200611   0.56         Belém - PA\n",
      "..      ...    ...                ...\n",
      "589  201108   0.14  Porto Alegre - RS\n",
      "590  201109   0.54  Porto Alegre - RS\n",
      "591  201110   0.82  Porto Alegre - RS\n",
      "592  201111   0.48  Porto Alegre - RS\n",
      "593  201112   0.04  Porto Alegre - RS\n",
      "\n",
      "[594 rows x 3 columns]\n"
     ]
    }
   ],
   "source": [
    "# Converter para DataFrame\n",
    "df = pd.DataFrame(desemprego_data)\n",
    "print(df)"
   ]
  },
  {
   "cell_type": "markdown",
   "metadata": {},
   "source": [
    "## PIB Nacional N1[all]"
   ]
  },
  {
   "cell_type": "code",
   "execution_count": 6,
   "metadata": {},
   "outputs": [],
   "source": [
    "# Endpoint da API do IBGE para o PIB em nivel nacional BRASIL N1[all] período de 2006 à 2011\n",
    "url = \"https://servicodados.ibge.gov.br/api/v3/agregados/21/periodos/2006-2011/variaveis/37?localidades=N1[all]\"\n",
    "\n",
    "# Realizar a requisição\n",
    "response = requests.get(url)\n",
    "\n",
    "# Verificar se a requisição foi bem-sucedida\n",
    "if response.status_code == 200:\n",
    "    data = response.json()\n",
    "\n",
    "    # Extrair e organizar os dados\n",
    "    desemprego_data = []\n",
    "    for resultado in data:\n",
    "        for serie in resultado[\"resultados\"][0][\"series\"]:\n",
    "            for periodo, valor in serie[\"serie\"].items():\n",
    "                desemprego_data.append({\n",
    "                    \"periodo\": periodo,\n",
    "                    \"PIB\": valor,\n",
    "                })\n",
    "else:\n",
    "    print(\"Erro:\", response.status_code, response.text)"
   ]
  },
  {
   "cell_type": "code",
   "execution_count": 7,
   "metadata": {},
   "outputs": [
    {
     "name": "stdout",
     "output_type": "stream",
     "text": [
      "  periodo         PIB\n",
      "0    2006  2369483546\n",
      "1    2007  2661344525\n",
      "2    2008  3032203490\n",
      "3    2009  3239404053\n",
      "4    2010  3770084872\n",
      "5    2011  4143013337\n"
     ]
    }
   ],
   "source": [
    "# Converter para DataFrame\n",
    "df = pd.DataFrame(desemprego_data)\n",
    "print(df)"
   ]
  },
  {
   "cell_type": "markdown",
   "metadata": {},
   "source": [
    "## PIB Municipal N3[all]"
   ]
  },
  {
   "cell_type": "code",
   "execution_count": 8,
   "metadata": {},
   "outputs": [],
   "source": [
    "# Endpoint da API do IBGE para o PIB em nivel municipal N3[all] período de 2006 à 2011\n",
    "url = \"https://servicodados.ibge.gov.br/api/v3/agregados/21/periodos/2006-2011/variaveis/37?localidades=N3[all]\"\n",
    "\n",
    "# Realizar a requisição\n",
    "response = requests.get(url)\n",
    "\n",
    "# Verificar se a requisição foi bem-sucedida\n",
    "if response.status_code == 200:\n",
    "    data = response.json()\n",
    "\n",
    "    # Extrair e organizar os dados\n",
    "    desemprego_data = []\n",
    "    for resultado in data:\n",
    "        for serie in resultado[\"resultados\"][0][\"series\"]:\n",
    "            estado_nome = serie[\"localidade\"][\"nome\"]  # Obtém o nome do estado\n",
    "            for periodo, valor in serie[\"serie\"].items():\n",
    "                desemprego_data.append({\n",
    "                    \"periodo\": periodo,\n",
    "                    \"PIB\": valor,\n",
    "                    \"estado\": estado_nome\n",
    "                })\n",
    "else:\n",
    "    print(\"Erro:\", response.status_code, response.text)"
   ]
  },
  {
   "cell_type": "code",
   "execution_count": 9,
   "metadata": {},
   "outputs": [
    {
     "name": "stdout",
     "output_type": "stream",
     "text": [
      "    periodo        PIB            estado\n",
      "0      2006   13107441          Rondônia\n",
      "1      2007   15002734          Rondônia\n",
      "2      2008   17887799          Rondônia\n",
      "3      2009   20236194          Rondônia\n",
      "4      2010   23560644          Rondônia\n",
      "..      ...        ...               ...\n",
      "157    2007   99945620  Distrito Federal\n",
      "158    2008  117571878  Distrito Federal\n",
      "159    2009  131487268  Distrito Federal\n",
      "160    2010  149906319  Distrito Federal\n",
      "161    2011  164482129  Distrito Federal\n",
      "\n",
      "[162 rows x 3 columns]\n"
     ]
    }
   ],
   "source": [
    "# Converter para DataFrame\n",
    "df = pd.DataFrame(desemprego_data)\n",
    "print(df)"
   ]
  },
  {
   "cell_type": "markdown",
   "metadata": {},
   "source": [
    "## Desemprego"
   ]
  },
  {
   "cell_type": "code",
   "execution_count": 11,
   "metadata": {},
   "outputs": [],
   "source": [
    "# Endpoint da API do IBGE para o agregado de taxa de desocupação\n",
    "url = \"https://servicodados.ibge.gov.br/api/v3/agregados/4099/periodos/202001-202301/variaveis/4099?localidades=N3[all]\"\n",
    "\n",
    "# Realizar a requisição\n",
    "response = requests.get(url)\n",
    "\n",
    "# Verificar se a requisição foi bem-sucedida\n",
    "if response.status_code == 200:\n",
    "    data = response.json()\n",
    "\n",
    "    # Extrair e organizar os dados\n",
    "    desemprego_data = []\n",
    "    for resultado in data:\n",
    "        for serie in resultado[\"resultados\"][0][\"series\"]:\n",
    "            estado_nome = serie[\"localidade\"][\"nome\"]  # Obtém o nome do estado\n",
    "            for periodo, valor in serie[\"serie\"].items():\n",
    "                desemprego_data.append({\n",
    "                    \"periodo\": periodo,\n",
    "                    \"desemprego\": valor,\n",
    "                    \"estado\": estado_nome\n",
    "                })\n",
    "else:\n",
    "    print(\"Erro:\", response.status_code, response.text)"
   ]
  },
  {
   "cell_type": "code",
   "execution_count": 12,
   "metadata": {},
   "outputs": [
    {
     "name": "stdout",
     "output_type": "stream",
     "text": [
      "    periodo desemprego            estado\n",
      "0    202001        8.5          Rondônia\n",
      "1    202002       11.1          Rondônia\n",
      "2    202003       11.8          Rondônia\n",
      "3    202004       11.1          Rondônia\n",
      "4    202101       11.3          Rondônia\n",
      "..      ...        ...               ...\n",
      "346  202201       12.6  Distrito Federal\n",
      "347  202202       11.5  Distrito Federal\n",
      "348  202203       10.9  Distrito Federal\n",
      "349  202204       10.3  Distrito Federal\n",
      "350  202301       12.0  Distrito Federal\n",
      "\n",
      "[351 rows x 3 columns]\n"
     ]
    }
   ],
   "source": [
    "# Converter para DataFrame\n",
    "df = pd.DataFrame(desemprego_data)\n",
    "print(df)"
   ]
  },
  {
   "cell_type": "markdown",
   "metadata": {},
   "source": [
    "## Pesquisa Mensal do Comércio"
   ]
  },
  {
   "cell_type": "code",
   "execution_count": 13,
   "metadata": {},
   "outputs": [],
   "source": [
    "# Endpoint da API do IBGE para a pesquisa Mensal do Comércio período de 2006 à 2011\n",
    "url = \"https://servicodados.ibge.gov.br/api/v3/agregados/999/periodos/200601-201112/variaveis/1195?localidades=N3[all]&classificacao=11046[103339]\"\n",
    "\n",
    "# Realizar a requisição\n",
    "response = requests.get(url)\n",
    "\n",
    "# Verificar se a requisição foi bem-sucedida\n",
    "if response.status_code == 200:\n",
    "    data = response.json()\n",
    "\n",
    "    # Extrair e organizar os dados\n",
    "    desemprego_data = []\n",
    "    for resultado in data:\n",
    "        for serie in resultado[\"resultados\"][0][\"series\"]:\n",
    "            estado_nome = serie[\"localidade\"][\"nome\"]  # Obtém o nome do estado\n",
    "            for periodo, valor in serie[\"serie\"].items():\n",
    "                desemprego_data.append({\n",
    "                    \"periodo\": periodo,\n",
    "                    \"Volume de Vendas\": valor,\n",
    "                    \"estado\": estado_nome\n",
    "                })\n",
    "else:\n",
    "    print(\"Erro:\", response.status_code, response.text)"
   ]
  },
  {
   "cell_type": "code",
   "execution_count": 14,
   "metadata": {},
   "outputs": [
    {
     "name": "stdout",
     "output_type": "stream",
     "text": [
      "    periodo Volume de Vendas            estado\n",
      "0    200601           116.66             Ceará\n",
      "1    200602            99.90             Ceará\n",
      "2    200603           110.05             Ceará\n",
      "3    200604           101.69             Ceará\n",
      "4    200605           115.23             Ceará\n",
      "..      ...              ...               ...\n",
      "859  201108           164.70  Distrito Federal\n",
      "860  201109           164.49  Distrito Federal\n",
      "861  201110           158.75  Distrito Federal\n",
      "862  201111           155.80  Distrito Federal\n",
      "863  201112           146.53  Distrito Federal\n",
      "\n",
      "[864 rows x 3 columns]\n"
     ]
    }
   ],
   "source": [
    "# Converter para DataFrame\n",
    "df = pd.DataFrame(desemprego_data)\n",
    "print(df)"
   ]
  },
  {
   "cell_type": "markdown",
   "metadata": {},
   "source": [
    "## Pesquisa Mensal de Serviços"
   ]
  },
  {
   "cell_type": "code",
   "execution_count": 15,
   "metadata": {},
   "outputs": [],
   "source": [
    "# Endpoint da API do IBGE para a pesquisa Mensal de Serviço período de 2012 à 2016\n",
    "url = \"https://servicodados.ibge.gov.br/api/v3/agregados/3839/periodos/201201-201612/variaveis/3797?localidades=N3[all]\"\n",
    "\n",
    "# Realizar a requisição\n",
    "response = requests.get(url)\n",
    "\n",
    "# Verificar se a requisição foi bem-sucedida\n",
    "if response.status_code == 200:\n",
    "    data = response.json()\n",
    "\n",
    "    # Extrair e organizar os dados\n",
    "    desemprego_data = []\n",
    "    for resultado in data:\n",
    "        for serie in resultado[\"resultados\"][0][\"series\"]:\n",
    "            estado_nome = serie[\"localidade\"][\"nome\"]  # Obtém o nome do estado\n",
    "            for periodo, valor in serie[\"serie\"].items():\n",
    "                desemprego_data.append({\n",
    "                    \"periodo\": periodo,\n",
    "                    \"Volume de Serviços\": valor,\n",
    "                    \"estado\": estado_nome\n",
    "                })\n",
    "else:\n",
    "    print(\"Erro:\", response.status_code, response.text)"
   ]
  },
  {
   "cell_type": "code",
   "execution_count": 16,
   "metadata": {},
   "outputs": [
    {
     "name": "stdout",
     "output_type": "stream",
     "text": [
      "     periodo Volume de Serviços            estado\n",
      "0     201201              106.1          Rondônia\n",
      "1     201202              104.8          Rondônia\n",
      "2     201203              116.3          Rondônia\n",
      "3     201204              111.0          Rondônia\n",
      "4     201205              110.0          Rondônia\n",
      "...      ...                ...               ...\n",
      "1615  201608              157.9  Distrito Federal\n",
      "1616  201609              148.6  Distrito Federal\n",
      "1617  201610              146.4  Distrito Federal\n",
      "1618  201611              157.5  Distrito Federal\n",
      "1619  201612              163.1  Distrito Federal\n",
      "\n",
      "[1620 rows x 3 columns]\n"
     ]
    }
   ],
   "source": [
    "# Converter para DataFrame\n",
    "df = pd.DataFrame(desemprego_data)\n",
    "print(df)"
   ]
  },
  {
   "cell_type": "markdown",
   "metadata": {},
   "source": [
    "## Pesquisa Industrial Mensal"
   ]
  },
  {
   "cell_type": "code",
   "execution_count": 17,
   "metadata": {},
   "outputs": [],
   "source": [
    "# Endpoint da API do IBGE para a pesquisa industrial mensal período de 1985 à 2001\n",
    "url = \"https://servicodados.ibge.gov.br/api/v3/agregados/76/periodos/198501-200103/variaveis/25?localidades=N3[all]&classificacao=7[23]|24[70]\"\n",
    "\n",
    "# Realizar a requisição\n",
    "response = requests.get(url)\n",
    "\n",
    "# Verificar se a requisição foi bem-sucedida\n",
    "if response.status_code == 200:\n",
    "    data = response.json()\n",
    "\n",
    "    # Extrair e organizar os dados\n",
    "    desemprego_data = []\n",
    "    for resultado in data:\n",
    "        for serie in resultado[\"resultados\"][0][\"series\"]:\n",
    "            estado_nome = serie[\"localidade\"][\"nome\"]  # Obtém o nome do estado\n",
    "            for periodo, valor in serie[\"serie\"].items():\n",
    "                desemprego_data.append({\n",
    "                    \"periodo\": periodo,\n",
    "                    \"Valor da produção nominal\": valor,\n",
    "                    \"estado\": estado_nome\n",
    "                })\n",
    "else:\n",
    "    print(\"Erro:\", response.status_code, response.text)"
   ]
  },
  {
   "cell_type": "code",
   "execution_count": 18,
   "metadata": {},
   "outputs": [
    {
     "name": "stdout",
     "output_type": "stream",
     "text": [
      "    periodo Valor da produção nominal        estado\n",
      "0    198501                     53.92  Minas Gerais\n",
      "1    198502                     53.77  Minas Gerais\n",
      "2    198503                     66.30  Minas Gerais\n",
      "3    198504                     69.43  Minas Gerais\n",
      "4    198505                     81.28  Minas Gerais\n",
      "..      ...                       ...           ...\n",
      "580  200011                 117901.00     São Paulo\n",
      "581  200012                 113460.00     São Paulo\n",
      "582  200101                 108108.00     São Paulo\n",
      "583  200102                 110787.00     São Paulo\n",
      "584  200103                 121837.00     São Paulo\n",
      "\n",
      "[585 rows x 3 columns]\n"
     ]
    }
   ],
   "source": [
    "# Converter para DataFrame\n",
    "df = pd.DataFrame(desemprego_data)\n",
    "print(df)"
   ]
  }
 ],
 "metadata": {
  "kernelspec": {
   "display_name": ".venv",
   "language": "python",
   "name": "python3"
  },
  "language_info": {
   "codemirror_mode": {
    "name": "ipython",
    "version": 3
   },
   "file_extension": ".py",
   "mimetype": "text/x-python",
   "name": "python",
   "nbconvert_exporter": "python",
   "pygments_lexer": "ipython3",
   "version": "3.12.7"
  }
 },
 "nbformat": 4,
 "nbformat_minor": 2
}
